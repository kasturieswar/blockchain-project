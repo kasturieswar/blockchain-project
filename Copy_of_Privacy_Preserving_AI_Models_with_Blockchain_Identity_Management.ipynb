{
  "nbformat": 4,
  "nbformat_minor": 0,
  "metadata": {
    "colab": {
      "provenance": []
    },
    "kernelspec": {
      "name": "python3",
      "display_name": "Python 3"
    },
    "language_info": {
      "name": "python"
    }
  },
  "cells": [
    {
      "cell_type": "code",
      "execution_count": 10,
      "metadata": {
        "colab": {
          "base_uri": "https://localhost:8080/"
        },
        "id": "nJruo-JCi1AE",
        "outputId": "13b844f8-17e7-4e84-a85c-25fa28583499"
      },
      "outputs": [
        {
          "output_type": "stream",
          "name": "stdout",
          "text": [
            "   user_id                name         dob                   phone  \\\n",
            "0        0  Jacqueline Gilmore  1968-10-11       351-827-5785x6015   \n",
            "1        1       Regina Levine  1978-04-15        236-574-0682x512   \n",
            "2        2       Jason Jimenez  1965-02-14        812.303.8892x618   \n",
            "3        3      Suzanne Graham  1995-06-25              9884525867   \n",
            "4        4        Heather Ford  1981-12-04              3475913983   \n",
            "5        5        Katrina Moss  2004-01-01            908.801.0011   \n",
            "6        6       Jeffrey Lopez  1980-03-23       637-248-6471x6853   \n",
            "7        7          Karen Vega  1976-10-14            456.205.8446   \n",
            "8        8        Alicia James  1965-07-29            699.217.2471   \n",
            "9        9           Cory Holt  1971-10-26  001-486-780-7443x41537   \n",
            "\n",
            "                        email  \n",
            "0      clarkdavid@example.com  \n",
            "1      daviddanny@example.com  \n",
            "2         barry15@example.com  \n",
            "3       ericramos@example.net  \n",
            "4          zdixon@example.net  \n",
            "5         kelly23@example.org  \n",
            "6  kathleenortega@example.org  \n",
            "7       marksmith@example.net  \n",
            "8     alejandro08@example.net  \n",
            "9      smithamber@example.net  \n"
          ]
        }
      ],
      "source": [
        "from faker import Faker\n",
        "import pandas as pd\n",
        "\n",
        "\n",
        "fake = Faker()\n",
        "\n",
        "\n",
        "data = []\n",
        "for i in range(10):\n",
        "    data.append({\n",
        "        \"user_id\": i,\n",
        "        \"name\": fake.name(),\n",
        "        \"dob\": fake.date_of_birth(minimum_age=18, maximum_age=60).isoformat(),\n",
        "        \"phone\": fake.phone_number(),\n",
        "        \"email\": fake.email()\n",
        "    })\n",
        "\n",
        "\n",
        "df = pd.DataFrame(data)\n",
        "print(df)"
      ]
    },
    {
      "cell_type": "code",
      "source": [
        "import hashlib\n",
        "\n",
        "\n",
        "df[\"hashed_id\"] = df[\"email\"].apply(lambda x: hashlib.sha256(x.encode()).hexdigest())\n",
        "print(df[[\"email\", \"hashed_id\"]])\n"
      ],
      "metadata": {
        "colab": {
          "base_uri": "https://localhost:8080/"
        },
        "id": "Ot0FKJTFj0vk",
        "outputId": "fc2f2e25-3e9a-4f56-8143-cbae994a04ca"
      },
      "execution_count": 11,
      "outputs": [
        {
          "output_type": "stream",
          "name": "stdout",
          "text": [
            "                        email  \\\n",
            "0      clarkdavid@example.com   \n",
            "1      daviddanny@example.com   \n",
            "2         barry15@example.com   \n",
            "3       ericramos@example.net   \n",
            "4          zdixon@example.net   \n",
            "5         kelly23@example.org   \n",
            "6  kathleenortega@example.org   \n",
            "7       marksmith@example.net   \n",
            "8     alejandro08@example.net   \n",
            "9      smithamber@example.net   \n",
            "\n",
            "                                           hashed_id  \n",
            "0  ccd1f5950cb0b144e73f63d9498d41eba12bc069fd7abc...  \n",
            "1  c3c96d227f1f25c3d791e260abb80904a6cc544d9dc966...  \n",
            "2  0b0b270c32ff4128bdcaec01c4232068a76b75cd789b41...  \n",
            "3  9af2876711d02d3348cb10ade6268274df5b481d66ca53...  \n",
            "4  3542bc0d8cbee23785e924ff2692d89ec66c678d3adc5a...  \n",
            "5  762121c0634bc4cb3bea7597ffcc502b918a892e39779b...  \n",
            "6  6e79ba7690fed5f8811d0bb917d6bee85357a305d20078...  \n",
            "7  711ce099390a6f9b14c22f29f156c86d421802d79e7076...  \n",
            "8  908705dec3a8ada6d76afafe924d61ecf2edb53b79d65c...  \n",
            "9  59704a861c7f8b4172096a9f71aeee199b4ca78e8b5066...  \n"
          ]
        }
      ]
    },
    {
      "cell_type": "code",
      "source": [
        "import hashlib\n",
        "import pandas as pd\n",
        "\n",
        "\n",
        "class Identity:\n",
        "    def __init__(self):\n",
        "        self.registered = {}\n",
        "\n",
        "    def register(self, id_hash: str):\n",
        "        \"\"\"Register identity hash.\"\"\"\n",
        "        self.registered[id_hash] = True\n",
        "\n",
        "    def verify(self, id_hash: str) -> bool:\n",
        "        \"\"\"Verify if identity hash exists.\"\"\"\n",
        "        return self.registered.get(id_hash, False)\n",
        "\n",
        "\n",
        "\n",
        "\n",
        "data = {\n",
        "    \"email\": [\n",
        "        \"skinnerdanielle@example.net\",\n",
        "        \"kelseymoyer@example.com\",\n",
        "        \"zbush@example.net\",\n",
        "        \"cantrellalyssa@example.org\",\n",
        "        \"anthonyhurst@example.net\",\n",
        "        \"robert47@example.com\",\n",
        "        \"vflowers@example.org\",\n",
        "        \"john36@example.com\",\n",
        "        \"johnholt@example.net\",\n",
        "        \"philiplenoard@example.com\"\n",
        "    ]\n",
        "}\n",
        "\n",
        "\n",
        "df = pd.DataFrame(data)\n",
        "\n",
        "\n",
        "df[\"hashed_id\"] = df[\"email\"].apply(lambda x: hashlib.sha256(x.encode()).hexdigest())\n",
        "\n",
        "\n",
        "identity_contract = Identity()\n",
        "\n",
        "\n",
        "for h in df[\"hashed_id\"]:\n",
        "    identity_contract.register(h)\n",
        "\n",
        "\n",
        "print(\"Verifying some users:\\n\")\n",
        "for email in [\"skinnerdanielle@example.net\", \"john36@example.com\", \"fakeuser@example.com\"]:\n",
        "    h = hashlib.sha256(email.encode()).hexdigest()\n",
        "    print(f\"{email} verified? {identity_contract.verify(h)}\")\n",
        "\n",
        "\n",
        "print(\"\\nBlockchain State (first 5 entries):\")\n",
        "print(list(identity_contract.registered.items())[:5])\n"
      ],
      "metadata": {
        "colab": {
          "base_uri": "https://localhost:8080/"
        },
        "id": "G2zNLJzkkAC2",
        "outputId": "aa5795ef-7c59-4ad2-f287-a2d947221349"
      },
      "execution_count": 12,
      "outputs": [
        {
          "output_type": "stream",
          "name": "stdout",
          "text": [
            "Verifying some users:\n",
            "\n",
            "skinnerdanielle@example.net verified? True\n",
            "john36@example.com verified? True\n",
            "fakeuser@example.com verified? False\n",
            "\n",
            "Blockchain State (first 5 entries):\n",
            "[('313f98d71cb212f20ecef77f54cbe5a9f5a51a42c4818b37429c5fd5ea496005', True), ('8f16bd5ec1db555f667eebecdf474fdf5533407ad0b79bf451001916dc89286f', True), ('b8c3cd1854328ee01dd8af5a66a512c0b7eead5b328a3bfdaaf05a1da4ec8567', True), ('fc9cab5e7554b9e0394b923efe3cf22ffc2932c5741d02fc09cb1794ee97b001', True), ('15db4989147bc2e9c0c3ce64fa4cc98e27c5c4fca4b86cce546218d0e36043e6', True)]\n"
          ]
        }
      ]
    },
    {
      "cell_type": "code",
      "source": [
        "\n",
        "input_email = \"fakeuser@example.com\"\n",
        "input_email = input_email.strip()\n",
        "\n",
        "\n",
        "input_hash = hashlib.sha256(input_email.encode()).hexdigest()\n",
        "\n",
        "\n",
        "if input_hash in df[\"hashed_id\"].values:\n",
        "    print(\"✅ User Verified\")\n",
        "else:\n",
        "    print(\"❌ User Not Found\")\n"
      ],
      "metadata": {
        "colab": {
          "base_uri": "https://localhost:8080/"
        },
        "id": "ePH5i8FL0pPg",
        "outputId": "b02fd4ef-c29a-44ac-b1ac-4d1817617817"
      },
      "execution_count": 13,
      "outputs": [
        {
          "output_type": "stream",
          "name": "stdout",
          "text": [
            "❌ User Not Found\n"
          ]
        }
      ]
    }
  ]
}